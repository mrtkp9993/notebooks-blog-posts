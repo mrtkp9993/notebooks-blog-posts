{
 "cells": [
  {
   "cell_type": "code",
   "execution_count": 1,
   "metadata": {},
   "outputs": [],
   "source": [
    "from z3 import *"
   ]
  },
  {
   "cell_type": "code",
   "execution_count": 41,
   "metadata": {},
   "outputs": [],
   "source": [
    "class Sudoku:\n",
    "    digits = set(range(1, 10))\n",
    "    X = None\n",
    "    def __init__(self, puzzle_string):\n",
    "        self.puzzle_string = puzzle_string\n",
    "        self.solver = Solver()\n",
    "\n",
    "        self._generate_cell()\n",
    "        self._set_digit_constraints()\n",
    "        self._set_row_constraints()\n",
    "        self._set_column_constraints()\n",
    "        self._set_subsquare_constraints()\n",
    "\n",
    "        self._parse_puzzle_string()\n",
    "\n",
    "    def _generate_cell(self):\n",
    "        self.X = [[Int(\"cell_%s_%s\" % (i+1, j+1)) for j in range(9)] for i in range(9)]\n",
    "\n",
    "    def _set_digit_constraints(self):\n",
    "        for i in range(9):\n",
    "            for j in range(9):\n",
    "                self.solver.add(And(min(self.digits) <= self.X[i][j], self.X[i][j] <= max(self.digits)))\n",
    "\n",
    "    def _set_row_constraints(self):\n",
    "        for i in range(9):\n",
    "            self.solver.add(Distinct(self.X[i]))\n",
    "\n",
    "    def _set_column_constraints(self):\n",
    "        for i in range(9):\n",
    "            self.solver.add(Distinct([self.X[j][i] for j in range(9)]))\n",
    "\n",
    "    def _set_subsquare_constraints(self):\n",
    "        for i in range(3):\n",
    "            for j in range(3):\n",
    "                self.solver.add(Distinct([self.X[i*3+k][j*3+l] for k in range(3) for l in range(3)]))\n",
    "\n",
    "    def _parse_puzzle_string(self):\n",
    "        for i in range(9):\n",
    "            for j in range(9):\n",
    "                if self.puzzle_string[i*9+j] != '.':\n",
    "                    self.solver.add(self.X[i][j] == int(self.puzzle_string[i*9+j]))\n",
    "\n",
    "    def solve(self):\n",
    "        if self.solver.check() == sat:\n",
    "            m = self.solver.model()\n",
    "            r = []\n",
    "            for i in range(9):\n",
    "                r.append([m.evaluate(self.X[i][j]).as_long() for j in range(9)])\n",
    "            return r\n",
    "        else:\n",
    "            return None\n",
    "\n",
    "    def display_problem(self):\n",
    "        for i in range(9):\n",
    "            for j in range(9):\n",
    "                print(self.puzzle_string[i*9+j], end=\" \")\n",
    "                if j == 2 or j == 5:\n",
    "                    print(\"|\", end=\" \")\n",
    "            print()\n",
    "            if i == 2 or i == 5:\n",
    "                print(\"- - - + - - - + - - -\")\n",
    "\n",
    "    def solve_and_pprint(self):\n",
    "        r = self.solve()\n",
    "        if r is None:\n",
    "            print(\"No solution\")\n",
    "            return\n",
    "        for i in range(9):\n",
    "            for j in range(9):\n",
    "                print(r[i][j], end=\" \")\n",
    "                if j == 2 or j == 5:\n",
    "                    print(\"|\", end=\" \")\n",
    "            print()\n",
    "            if i == 2 or i == 5:\n",
    "                print(\"- - - + - - - + - - -\")"
   ]
  },
  {
   "cell_type": "code",
   "execution_count": 44,
   "metadata": {},
   "outputs": [
    {
     "name": "stdout",
     "output_type": "stream",
     "text": [
      "Problem:\n",
      ". . . | . . 6 | . . . \n",
      ". 5 9 | . . . | . . 8 \n",
      "2 . . | . . 8 | . . . \n",
      "- - - + - - - + - - -\n",
      ". 4 5 | . . . | . . . \n",
      ". . 3 | . . . | . . . \n",
      ". . 6 | . . 3 | . 5 4 \n",
      "- - - + - - - + - - -\n",
      ". . . | 3 2 5 | . . 6 \n",
      ". . . | . . . | . . . \n",
      ". . . | . . . | . . . \n",
      "Solution:\n",
      "4 3 8 | 2 5 6 | 9 7 1 \n",
      "6 5 9 | 7 1 4 | 2 3 8 \n",
      "2 1 7 | 9 3 8 | 4 6 5 \n",
      "- - - + - - - + - - -\n",
      "1 4 5 | 6 9 2 | 7 8 3 \n",
      "8 7 3 | 5 4 1 | 6 2 9 \n",
      "9 2 6 | 8 7 3 | 1 5 4 \n",
      "- - - + - - - + - - -\n",
      "7 9 4 | 3 2 5 | 8 1 6 \n",
      "3 8 2 | 1 6 9 | 5 4 7 \n",
      "5 6 1 | 4 8 7 | 3 9 2 \n"
     ]
    }
   ],
   "source": [
    "s = Sudoku(\".....6....59.....82....8....45........3........6..3.54...325..6..................\")\n",
    "print(\"Problem:\")\n",
    "s.display_problem()\n",
    "print(\"Solution:\")\n",
    "s.solve_and_pprint()"
   ]
  },
  {
   "cell_type": "code",
   "execution_count": 45,
   "metadata": {},
   "outputs": [
    {
     "name": "stdout",
     "output_type": "stream",
     "text": [
      "Problem:\n",
      ". 1 . | . 3 . | 4 . . \n",
      ". . . | 7 4 5 | . . . \n",
      ". . 4 | . 9 6 | . 3 . \n",
      "- - - + - - - + - - -\n",
      "7 . . | . . . | . 1 . \n",
      ". 8 1 | . . 7 | . 9 4 \n",
      ". . . | . . . | 8 . . \n",
      "- - - + - - - + - - -\n",
      ". . . | . 7 . | . 2 . \n",
      "6 7 3 | . . 9 | . . . \n",
      ". . . | 5 . 1 | . 4 7 \n",
      "Solution:\n",
      "5 1 7 | 8 3 2 | 4 6 9 \n",
      "9 3 6 | 7 4 5 | 2 8 1 \n",
      "8 2 4 | 1 9 6 | 7 3 5 \n",
      "- - - + - - - + - - -\n",
      "7 6 2 | 9 8 4 | 5 1 3 \n",
      "3 8 1 | 2 5 7 | 6 9 4 \n",
      "4 5 9 | 6 1 3 | 8 7 2 \n",
      "- - - + - - - + - - -\n",
      "1 4 5 | 3 7 8 | 9 2 6 \n",
      "6 7 3 | 4 2 9 | 1 5 8 \n",
      "2 9 8 | 5 6 1 | 3 4 7 \n"
     ]
    }
   ],
   "source": [
    "s = Sudoku(\".1..3.4.....745.....4.96.3.7......1..81..7.94......8......7..2.673..9......5.1.47\")\n",
    "print(\"Problem:\")\n",
    "s.display_problem()\n",
    "print(\"Solution:\")\n",
    "s.solve_and_pprint()"
   ]
  },
  {
   "cell_type": "code",
   "execution_count": null,
   "metadata": {},
   "outputs": [],
   "source": []
  }
 ],
 "metadata": {
  "kernelspec": {
   "display_name": "Python 3",
   "language": "python",
   "name": "python3"
  },
  "language_info": {
   "codemirror_mode": {
    "name": "ipython",
    "version": 3
   },
   "file_extension": ".py",
   "mimetype": "text/x-python",
   "name": "python",
   "nbconvert_exporter": "python",
   "pygments_lexer": "ipython3",
   "version": "3.10.8"
  }
 },
 "nbformat": 4,
 "nbformat_minor": 2
}
